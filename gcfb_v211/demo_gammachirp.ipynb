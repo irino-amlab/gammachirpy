{
 "cells": [
  {
   "cell_type": "markdown",
   "metadata": {},
   "source": [
    "# demo_gammachirp_notebook\n",
    "This notebook demonstrates:\n",
    "- Frequency Response\n",
    "- Center Frequency vs. ERB Width\n",
    "- Filter Level Dependency\n",
    "- Input/Output Function of the Gammachirp Finterbank with the GammachirPy packege.\n",
    "\n",
    "Note:\n",
    "- The original article is [HERE](https://doi.org/10.20697/jasj.66.10_506) (Irino, 2010, in Japanese)\n",
    "- The original MATLAB code is [HERE](https://researchmap.jp/irino/資料公開/) (Irino, 2010-2021, in Japanese)\n",
    "\n",
    "References:\n",
    "- Irino,T. and Patterson,R.D.: JASA, Vol.101, pp.412-419, 1997.\n",
    "- Irino,T. and Patterson,R.D.: JASA, Vol.109, pp.2008-2022, 2001.\n",
    "- Patterson,R.D., Unoki,M. and Irino,T.: JASA, Vol.114, pp.1529-1542, 2003. \n",
    "- Irino,T. and Patterson,R.D.: IEEE Trans.ASLP, Vol.14, pp.2222-2232, 2006."
   ]
  },
  {
   "cell_type": "markdown",
   "metadata": {},
   "source": [
    "### Setup"
   ]
  },
  {
   "cell_type": "code",
   "execution_count": null,
   "metadata": {},
   "outputs": [],
   "source": [
    "import numpy as np\n",
    "from scipy import signal\n",
    "import matplotlib.pyplot as plt\n",
    "%matplotlib inline\n",
    "\n",
    "import utils as utils\n",
    "import gcfb_v211 as gcfb\n",
    "import gammachirp as gc"
   ]
  },
  {
   "cell_type": "code",
   "execution_count": null,
   "metadata": {},
   "outputs": [],
   "source": [
    "# Parameter values from Patterson+ (2003)\n",
    "n = 4       \n",
    "b1 = 1.81   \n",
    "c1 = -2.96  \n",
    "b2 = 2.17   \n",
    "c2 = 2.20   \n",
    "frat0 = 0.466\n",
    "frat1 = 0.0109\n",
    "\n",
    "n_rsl = 2**12\n",
    "fs = 44100\n",
    "ps = 50 # input level\n",
    "\n",
    "frat = frat0 + frat1*ps"
   ]
  },
  {
   "cell_type": "markdown",
   "metadata": {},
   "source": [
    "### Frequency Response"
   ]
  },
  {
   "cell_type": "code",
   "execution_count": null,
   "metadata": {},
   "outputs": [],
   "source": [
    "# peak frequency of each filter channel\n",
    "fp_list = np.array([250, 500, 1000, 2000, 4000, 8000])\n",
    "fp_xtick = np.array([100, 250, 500, 1000, 2000, 4000, 8000, 16000])\n",
    "erb_n_xtick, _ = utils.freq2erb(fp_xtick)"
   ]
  },
  {
   "cell_type": "code",
   "execution_count": null,
   "metadata": {},
   "outputs": [],
   "source": [
    "fig, ax = plt.subplots()\n",
    "\n",
    "for fp in fp_list:\n",
    "    # calculate frequency renponse\n",
    "    fr1, _ = gcfb.fp2_to_fr1(n, b1, c1, b2, c2, frat, fp)\n",
    "    cgc_resp = gcfb.cmprs_gc_frsp(fr1, fs, n, b1, c1, frat, b2, c2, n_rsl)\n",
    "    cgc_frsp = cgc_resp.cgc_frsp\n",
    "    \n",
    "    # convert level and frequency scale to plot\n",
    "    cgc_frsp_db = 20 * np.log10(cgc_frsp/np.max(cgc_frsp))\n",
    "    freq = np.array(cgc_resp.freq)\n",
    "    erb_num, _ = utils.freq2erb(freq)\n",
    "\n",
    "    # plot frequency renponse of each filter channel\n",
    "    plt.plot(erb_num[0, :], cgc_frsp_db[0, :])\n",
    "    ax.set_xlim([erb_n_xtick[0], erb_n_xtick[-1]])\n",
    "    ax.set_ylim([-70, 5])\n",
    "    ax.set_xticks(erb_n_xtick)\n",
    "    ax.set_xticklabels(fp_xtick)\n",
    "    ax.set_xlabel(\"frequency (Hz)\")\n",
    "    ax.set_ylabel(\"filter gain (dB)\")\n",
    "    plt.title(\"frequency response\")\n",
    "\n",
    "plt.grid()\n",
    "\n",
    "plt.show()"
   ]
  },
  {
   "cell_type": "markdown",
   "metadata": {},
   "source": [
    "### Center Frequency vs. ERB Width"
   ]
  },
  {
   "cell_type": "code",
   "execution_count": null,
   "metadata": {},
   "outputs": [],
   "source": [
    "# convert linear frequency to ERB_N scale\n",
    "freq = np.arange(100, 12000+1, 100)\n",
    "_, erb_n = utils.freq2erb(freq)\n",
    "\n",
    "# plot in log scale\n",
    "fig, ax = plt.subplots(figsize=(5,5))\n",
    "plt.loglog(freq, erb_n)\n",
    "ax.set_xlim([50, 15000])\n",
    "ax.set_ylim([20, 2500])\n",
    "plt.grid(which='both')\n",
    "ax.set_xlabel(\"center frequency (Hz)\")\n",
    "ax.set_ylabel(\"equivalent rectanglar bandwidth (Hz)\")\n",
    "plt.title(\"center frequency vs. ERB width\")\n",
    "\n",
    "plt.show()"
   ]
  },
  {
   "cell_type": "markdown",
   "metadata": {},
   "source": [
    "### Filter Level Dependency"
   ]
  },
  {
   "cell_type": "code",
   "execution_count": null,
   "metadata": {},
   "outputs": [],
   "source": [
    "marker = ['o','x','d','*','^','p','s']\n",
    "cmap = plt.get_cmap(\"tab10\")\n",
    "\n",
    "fp = 2000 # peak frequency\n",
    "ps_list = [30, 40, 50, 60, 70, 80, 90] # input level (dB)"
   ]
  },
  {
   "cell_type": "code",
   "execution_count": null,
   "metadata": {},
   "outputs": [],
   "source": [
    "fig, ax = plt.subplots(figsize=(5,5))\n",
    "\n",
    "cgc_frs_db_max = np.array([])\n",
    "for cnt, ps in enumerate(ps_list):\n",
    "    # input level changes dcGC parameters\n",
    "    frat = frat0 + frat1*ps\n",
    "\n",
    "    # calculate frequency renponse\n",
    "    fr1, _ = gcfb.fp2_to_fr1(n, b1, c1, b2, c2, frat, fp) \n",
    "    cgc_resp = gcfb.cmprs_gc_frsp(fr1, fs, n, b1, c1, frat, b2, c2, n_rsl)\n",
    "    cgc_frsp = cgc_resp.cgc_frsp\n",
    "\n",
    "    # reference: peak level at the smallest input level (30 dB)\n",
    "    if cnt == 0:\n",
    "        cgc_frsp_ref = np.max(cgc_frsp)\n",
    "\n",
    "    # calculate relative frequency response \n",
    "    cgc_frsp_db = 20 * np.log10(cgc_frsp/np.max(cgc_frsp_ref))\n",
    "    freq = np.array(cgc_resp.freq)\n",
    "    cgc_frs_db_max = np.append(cgc_frs_db_max, np.max(cgc_frsp_db))\n",
    "\n",
    "    # plot\n",
    "    plt.plot(freq[0, :], cgc_frsp_db[0, :], color=cmap(cnt))\n",
    "    plt.plot(fp, cgc_frs_db_max[cnt], marker[cnt], color=cmap(cnt), markersize=8)\n",
    "    ax.set_xlim([0, 4000])\n",
    "    ax.set_ylim([-70, 5])\n",
    "    ax.set_xticks([0, 1000, 2000, 3000, 4000])\n",
    "    ax.set_xlabel('frequency (Hz)')\n",
    "    ax.set_ylabel('filter gain (dB)')\n",
    "    plt.grid()\n",
    "    plt.text(fp*1.05, cgc_frs_db_max[cnt], f\"{ps}\")\n",
    "\n",
    "plt.text(fp*1.15, 1.0, 'input level (dB)')\n",
    "plt.title('frequency response')\n",
    "\n",
    "plt.show()"
   ]
  },
  {
   "cell_type": "markdown",
   "metadata": {},
   "source": [
    "### Input/Output Function"
   ]
  },
  {
   "cell_type": "code",
   "execution_count": null,
   "metadata": {},
   "outputs": [],
   "source": [
    "fig, ax = plt.subplots(figsize=(5,5))\n",
    "\n",
    "# adjust output level to 90 dB when the input level is 90 dB\n",
    "output_level = cgc_frs_db_max + ps_list + 33\n",
    "\n",
    "# plot I/O function with a \"linear\" I/O function\n",
    "plt.plot(ps_list, output_level, 'k', ps_list, ps_list, ':k')\n",
    "\n",
    "# plot markers at each corrspond I/O level \n",
    "for cnt in range(len(output_level)):\n",
    "    plt.plot(ps_list[cnt], output_level[cnt], marker[cnt], \\\n",
    "        color=cmap(cnt), clip_on = False, markersize=8)\n",
    "\n",
    "ax.set_xlim([30, 90])\n",
    "ax.set_ylim([30, 90])\n",
    "ax.set_xlabel(\"input level (dB)\")\n",
    "ax.set_ylabel(\"output level (dB)\")\n",
    "plt.title(\"I/O function\")\n",
    "plt.grid()\n",
    "\n",
    "plt.show()"
   ]
  },
  {
   "cell_type": "markdown",
   "metadata": {},
   "source": [
    "### Impulse Response of Gammatone & Gammachirp "
   ]
  },
  {
   "cell_type": "code",
   "execution_count": null,
   "metadata": {},
   "outputs": [],
   "source": [
    "# auditory filter parameters\n",
    "fp = 2000\n",
    "fs = 44100\n",
    "n = 4\n",
    "b = 1.019 # default gammatone\n",
    "cgt = 0\n",
    "cgc = -3\n",
    "\n",
    "# gammatone\n",
    "gt_ir, len_gt, _, _ = gc.gammachirp(fp, fs, n, b, cgt)\n",
    "gm_env, _, _, _ = gc.gammachirp(fp, fs, n, b, cgt, 0, 'env')\n",
    "\n",
    "# gammachirp\n",
    "gc_ir, len_gc, _, _ = gc.gammachirp(fp, fs, n, b, cgc)"
   ]
  },
  {
   "cell_type": "code",
   "execution_count": null,
   "metadata": {},
   "outputs": [],
   "source": [
    "# plot\n",
    "tpl = 8\n",
    "npl = np.arange(tpl*fs/1000).astype(int)\n",
    "tms = npl/fs*1000\n",
    "bz = 2.5\n",
    "gme = np.array([[1], [-1]]) * gm_env[0, [npl]]\n",
    "\n",
    "fig, ax = plt.subplots()\n",
    "plt.plot(tms, gc_ir[0, [npl]][0, :]+bz, label='Gammachirp')\n",
    "plt.plot(tms, gt_ir[0, [npl]][0, :], '--', label='Gammatone')\n",
    "\n",
    "plt.plot(tms, gme[0, :], ':k', tms, gme[1,:], ':k', \\\n",
    "         tms, gme[0, :]+bz,':k', tms, gme[1,:]+bz, ':k', \\\n",
    "         [0, tpl], [0, 0], 'k', \\\n",
    "         [0, tpl], [bz, bz], 'k')\n",
    "\n",
    "ax.set_xlim([0, tpl])\n",
    "ax.set_yticks(np.arange(-1, bz+1.5, 0.5))\n",
    "ax.set_ylim([0-1.25, bz+1.25])\n",
    "ax.set_yticklabels('')\n",
    "ax.set_xlabel('time (ms)')\n",
    "ax.set_ylabel('apmlitude (a.u.)')\n",
    "ax.legend(loc='center right')\n",
    "plt.title('impulse response')\n",
    "plt.grid()\n",
    "\n",
    "plt.show()"
   ]
  },
  {
   "cell_type": "markdown",
   "metadata": {},
   "source": [
    "### Frequency Response of Gammatone & Gammachirp "
   ]
  },
  {
   "cell_type": "code",
   "execution_count": null,
   "metadata": {},
   "outputs": [],
   "source": [
    "# parameter settings\n",
    "fs = 44100\n",
    "n_frsl = 1024\n",
    "\n",
    "# frequency renponse of each auditory filter\n",
    "# gammatone\n",
    "freq, frsp_gt = signal.freqz(gt_ir[0, :], 1, n_frsl, fs=fs)\n",
    "gt_db = 20 * np.log10(np.abs(frsp_gt))\n",
    "gt_db = gt_db  - np.max(gt_db)\n",
    "\n",
    "# gammachirp\n",
    "freq, frsp_gc = signal.freqz(gc_ir[0, :], 1, n_frsl, fs=fs)\n",
    "gc_db = 20 * np.log10(np.abs(frsp_gc))\n",
    "gc_db = gc_db  - np.max(gc_db)\n",
    "\n",
    "# plot\n",
    "fig, ax = plt.subplots()\n",
    "plt.plot(freq, gc_db, label='Gammachirp')\n",
    "plt.plot(freq, gt_db, '--', label='Gammatone')\n",
    "ax.set_xlim([0, fp*2])\n",
    "ax.set_ylim([-50, 5])\n",
    "ax.set_xlabel('frequency (Hz)')\n",
    "ax.set_ylabel('filter gain (dB)')\n",
    "plt.title('Fourier spectrum')\n",
    "plt.grid()\n",
    "plt.legend()\n",
    "\n",
    "plt.show()"
   ]
  }
 ],
 "metadata": {
  "kernelspec": {
   "display_name": "Python 3.9.1 64-bit",
   "language": "python",
   "name": "python3"
  },
  "language_info": {
   "codemirror_mode": {
    "name": "ipython",
    "version": 3
   },
   "file_extension": ".py",
   "mimetype": "text/x-python",
   "name": "python",
   "nbconvert_exporter": "python",
   "pygments_lexer": "ipython3",
   "version": "3.9.1"
  },
  "orig_nbformat": 4,
  "vscode": {
   "interpreter": {
    "hash": "aee8b7b246df8f9039afb4144a1f6fd8d2ca17a180786b69acc140d282b71a49"
   }
  }
 },
 "nbformat": 4,
 "nbformat_minor": 2
}

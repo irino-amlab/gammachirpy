{
 "cells": [
  {
   "cell_type": "markdown",
   "metadata": {},
   "source": [
    "# demo_gcfb_v211_speech\n",
    "- Read and analyze a sample speech sound\n",
    "- The aumplitude of the input speech sound is normalized by utils.audioread()."
   ]
  },
  {
   "cell_type": "code",
   "execution_count": null,
   "metadata": {},
   "outputs": [],
   "source": [
    "import numpy as np\n",
    "import matplotlib.pyplot as plt\n",
    "%matplotlib inline\n",
    "from IPython.display import Audio\n",
    "\n",
    "import utils\n",
    "import gcfb_v211 as gcfb"
   ]
  },
  {
   "cell_type": "markdown",
   "metadata": {},
   "source": [
    "## Set default parameters for the Gammachirp filterbank (GCFB)"
   ]
  },
  {
   "cell_type": "code",
   "execution_count": null,
   "metadata": {},
   "outputs": [],
   "source": [
    "class GCparamDefault:\n",
    "        fs = 48000 # sampling frequency\n",
    "        num_ch = 100 # number of channels\n",
    "        f_range = np.array([100, 6000]) # range of center frequencies\n",
    "        # out_mid_crct = \"No\" # outer & middle ear correlations\n",
    "        out_mid_crct = 'ELC' # equal loudness contour (ELC)\n",
    "        ctrl = 'dynamic' # time-varying\n",
    "        # ctrl = 'static' # not time-varying (fixed)"
   ]
  },
  {
   "cell_type": "markdown",
   "metadata": {},
   "source": [
    "## Read a sample speech sound"
   ]
  },
  {
   "cell_type": "code",
   "execution_count": null,
   "metadata": {},
   "outputs": [],
   "source": [
    "# stiuli : a sample speech\n",
    "file_name = 'Snd_konnichiwa.wav'\n",
    "path_dir = './sample/'\n",
    "path_file = path_dir + file_name\n",
    "\n",
    "# read sample speech\n",
    "snd, fs = utils.audioread(path_file)\n",
    "t_snd = len(snd)/fs\n",
    "t = np.arange(0, len(snd), 1)/fs\n",
    "print(f\"Duration of sound = {t_snd*1000} (ms)\")"
   ]
  },
  {
   "cell_type": "code",
   "execution_count": null,
   "metadata": {},
   "outputs": [],
   "source": [
    "# Plot the input signal\n",
    "fig, ax = plt.subplots()\n",
    "ax.plot(t, snd)\n",
    "ax.set_title(\"Input: speech sound\")\n",
    "ax.set_xlabel(\"time (s)\")\n",
    "ax.set_ylabel(\"amplitude\")\n",
    "plt.grid()"
   ]
  },
  {
   "cell_type": "code",
   "execution_count": null,
   "metadata": {},
   "outputs": [],
   "source": [
    "# Play the speech sound\n",
    "Audio(snd, rate=fs)"
   ]
  },
  {
   "cell_type": "markdown",
   "metadata": {},
   "source": [
    "## Input level: 40 dB SPL"
   ]
  },
  {
   "cell_type": "code",
   "execution_count": null,
   "metadata": {},
   "outputs": [],
   "source": [
    "# sound pressure level (SPL)\n",
    "dbspl = 40"
   ]
  },
  {
   "cell_type": "code",
   "execution_count": null,
   "metadata": {},
   "outputs": [],
   "source": [
    "# Level equalization\n",
    "snd_eq, _ = utils.eqlz2meddis_hc_level(snd, dbspl)\n",
    "\n",
    "# GCFB\n",
    "gc_param = GCparamDefault() # reset all\n",
    "cgc_out, pgc_out, _, _ = gcfb.gcfb_v211(snd_eq, gc_param)"
   ]
  },
  {
   "cell_type": "code",
   "execution_count": null,
   "metadata": {},
   "outputs": [],
   "source": [
    "# plot\n",
    "fig, ax = plt.subplots()\n",
    "plt.imshow(np.maximum(cgc_out, 0), \\\n",
    "    extent=[min(t), max(t), 1, 100], aspect='auto', origin='lower', cmap='jet')\n",
    "ax.set_title(f\"GCFB control = {gc_param.ctrl}; Signal Level = {dbspl} dB SPL\")\n",
    "ax.set_yticks([0, 20, 40, 60, 80, 100])\n",
    "ax.set_xlabel(\"time (s)\")\n",
    "ax.set_xlabel(\"channel\")"
   ]
  },
  {
   "cell_type": "markdown",
   "metadata": {},
   "source": [
    "## Input level: 60 dB SPL"
   ]
  },
  {
   "cell_type": "code",
   "execution_count": null,
   "metadata": {},
   "outputs": [],
   "source": [
    "# sound pressure level (SPL)\n",
    "dbspl = 60"
   ]
  },
  {
   "cell_type": "code",
   "execution_count": null,
   "metadata": {},
   "outputs": [],
   "source": [
    "# Level equalization\n",
    "snd_eq, _ = utils.eqlz2meddis_hc_level(snd, dbspl)\n",
    "\n",
    "# GCFB\n",
    "gc_param = GCparamDefault() # reset all\n",
    "cgc_out, pgc_out, _, _ = gcfb.gcfb_v211(snd_eq, gc_param)"
   ]
  },
  {
   "cell_type": "code",
   "execution_count": null,
   "metadata": {},
   "outputs": [],
   "source": [
    "# plot\n",
    "fig, ax = plt.subplots()\n",
    "plt.imshow(np.maximum(cgc_out, 0), \\\n",
    "    extent=[min(t), max(t), 1, 100], aspect='auto', origin='lower', cmap='jet')\n",
    "ax.set_title(f\"GCFB control = {gc_param.ctrl}; Signal Level = {dbspl} dB SPL\")\n",
    "ax.set_yticks([0, 20, 40, 60, 80, 100])\n",
    "ax.set_xlabel(\"time (s)\")\n",
    "ax.set_xlabel(\"channel\")"
   ]
  }
 ],
 "metadata": {
  "kernelspec": {
   "display_name": "Python 3.9.1 ('venv': venv)",
   "language": "python",
   "name": "python3"
  },
  "language_info": {
   "codemirror_mode": {
    "name": "ipython",
    "version": 3
   },
   "file_extension": ".py",
   "mimetype": "text/x-python",
   "name": "python",
   "nbconvert_exporter": "python",
   "pygments_lexer": "ipython3",
   "version": "3.9.1"
  },
  "orig_nbformat": 4,
  "vscode": {
   "interpreter": {
    "hash": "c58a083cd378f10374464fb1b924030065b4f2fee597c1844105542a179361a7"
   }
  }
 },
 "nbformat": 4,
 "nbformat_minor": 2
}

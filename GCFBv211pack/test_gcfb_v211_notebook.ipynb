{
 "cells": [
  {
   "cell_type": "markdown",
   "metadata": {},
   "source": [
    "# test_gcfb_v211_notebook\n",
    "- Compare output signals of GammachirPy (Python) to the original Gammachirp filterbank (Matlab)\n",
    "- The output signals of the Gammachirp filterbank are saved as a mat-file (.mat)."
   ]
  },
  {
   "cell_type": "code",
   "execution_count": null,
   "metadata": {},
   "outputs": [],
   "source": [
    "import numpy as np\n",
    "import scipy.io as sio\n",
    "import matplotlib.pyplot as plt\n",
    "%matplotlib inline\n",
    "\n",
    "import utils\n",
    "import gcfb_v211 as dcgc"
   ]
  },
  {
   "cell_type": "markdown",
   "metadata": {},
   "source": [
    "## Set default parameters for the Gammachirp filterbank (GCFB)"
   ]
  },
  {
   "cell_type": "code",
   "execution_count": null,
   "metadata": {},
   "outputs": [],
   "source": [
    "class GCparamDefault:\n",
    "    fs = 48000 # sampling frequency\n",
    "    NumCh = 100 # number of channels\n",
    "    FRange = np.array([100, 6000]) # range of center frequencies\n",
    "    OutMidCrct = \"No\""
   ]
  },
  {
   "cell_type": "markdown",
   "metadata": {},
   "source": [
    "## Make a simple pulse train as an input signal "
   ]
  },
  {
   "cell_type": "code",
   "execution_count": null,
   "metadata": {},
   "outputs": [],
   "source": [
    "fs = 48000\n",
    "t_pulse = 10 # (ms) 100 Hz pulse train\n",
    "snd = np.array(([1]+[0]*int(t_pulse*fs/1000-1))*10)\n",
    "t_snd = len(snd)/fs\n",
    "print(f\"Duration of sound = {t_snd*1000} (ms)\")"
   ]
  },
  {
   "cell_type": "code",
   "execution_count": null,
   "metadata": {},
   "outputs": [],
   "source": [
    "# Plot the input signal\n",
    "fig, ax = plt.subplots()\n",
    "ax.plot(snd)\n",
    "ax.set_title(\"Input: pulse train\")"
   ]
  },
  {
   "cell_type": "markdown",
   "metadata": {},
   "source": [
    "## Input level: 40 dB SPL"
   ]
  },
  {
   "cell_type": "code",
   "execution_count": null,
   "metadata": {},
   "outputs": [],
   "source": [
    "dbspl = 40\n",
    "gc_param_ctrl = 'dynamic'"
   ]
  },
  {
   "cell_type": "code",
   "execution_count": null,
   "metadata": {},
   "outputs": [],
   "source": [
    "# Level equalization\n",
    "snd_eq, _ = utils.eqlz2meddis_hc_level(snd, dbspl)\n",
    "\n",
    "# GCFB\n",
    "GCparam = GCparamDefault() # reset all\n",
    "GCparam.Ctrl = gc_param_ctrl\n",
    "cgc_out, pgc_out, _, _ = dcgc.gcfb_v211(snd_eq, GCparam)"
   ]
  },
  {
   "cell_type": "code",
   "execution_count": null,
   "metadata": {},
   "outputs": [],
   "source": [
    "# load original outputs\n",
    "name_file = f\"./original/GCFBv211_GCout_{GCparam.Ctrl}_{dbspl}dBSPL.mat\"\n",
    "gc_out_org = sio.loadmat(name_file)"
   ]
  },
  {
   "cell_type": "code",
   "execution_count": null,
   "metadata": {},
   "outputs": [],
   "source": [
    "# cGCout\n",
    "cgc_out_org = gc_out_org['cGCout']\n",
    "rmse = utils.rms(cgc_out_org - cgc_out)\n",
    "print(f'RMSE (cGC): {rmse}')"
   ]
  },
  {
   "cell_type": "code",
   "execution_count": null,
   "metadata": {},
   "outputs": [],
   "source": [
    "# pGCout\n",
    "pgc_out_org = gc_out_org['pGCout']\n",
    "rmse = utils.rms(pgc_out_org - pgc_out)\n",
    "print(f'RMSE (pGC): {rmse}')"
   ]
  },
  {
   "cell_type": "code",
   "execution_count": null,
   "metadata": {},
   "outputs": [],
   "source": [
    "# GammachirPy (Python)\n",
    "ax = plt.subplot(2, 1, 1)\n",
    "plt.imshow(np.maximum(cgc_out, 0), aspect='auto', origin='lower', cmap='jet')\n",
    "ax.set_title(f\"GammachirPy (Python)\\n\\\n",
    "               GCFB control = {GCparam.Ctrl}; Signal Level = {dbspl} dB SPL\")\n",
    "ax.set_yticks([0, 20, 40, 60, 80, 100])\n",
    "\n",
    "# Original Gammachirp (Matlab)\n",
    "ax = plt.subplot(2, 1, 2)\n",
    "plt.imshow(np.maximum(cgc_out_org, 0), aspect='auto', origin='lower', cmap='jet')\n",
    "ax.set_title(f\"Original Gammachirp (Matlab)\\n\\\n",
    "               GCFB control = {GCparam.Ctrl}; Signal Level = {dbspl} dB SPL\")\n",
    "ax.set_yticks([0, 20, 40, 60, 80, 100])\n",
    "\n",
    "plt.tight_layout()"
   ]
  },
  {
   "cell_type": "markdown",
   "metadata": {},
   "source": [
    "## Input level: 60 dB SPL"
   ]
  },
  {
   "cell_type": "code",
   "execution_count": null,
   "metadata": {},
   "outputs": [],
   "source": [
    "dbspl = 60\n",
    "gc_param_ctrl = 'dynamic'"
   ]
  },
  {
   "cell_type": "code",
   "execution_count": null,
   "metadata": {},
   "outputs": [],
   "source": [
    "# Level equalization\n",
    "snd_eq, _ = utils.eqlz2meddis_hc_level(snd, dbspl)\n",
    "\n",
    "# GCFB\n",
    "GCparam = GCparamDefault() # reset all\n",
    "GCparam.Ctrl = gc_param_ctrl\n",
    "cgc_out, pgc_out, _, _ = dcgc.gcfb_v211(snd_eq, GCparam)"
   ]
  },
  {
   "cell_type": "code",
   "execution_count": null,
   "metadata": {},
   "outputs": [],
   "source": [
    "# load original outputs\n",
    "name_file = f\"./original/GCFBv211_GCout_{GCparam.Ctrl}_{dbspl}dBSPL.mat\"\n",
    "gc_out_org = sio.loadmat(name_file)"
   ]
  },
  {
   "cell_type": "code",
   "execution_count": null,
   "metadata": {},
   "outputs": [],
   "source": [
    "# cGC_out\n",
    "cgc_out_org = gc_out_org['cGCout']\n",
    "rmse = utils.rms(cgc_out_org - cgc_out)\n",
    "print(f'RMSE (cGC): {rmse}')"
   ]
  },
  {
   "cell_type": "code",
   "execution_count": null,
   "metadata": {},
   "outputs": [],
   "source": [
    "# pGCout\n",
    "pgc_out_org = gc_out_org['pGCout']\n",
    "rmse = utils.rms(pgc_out_org - pgc_out)\n",
    "print(f'RMSE (pGC): {rmse}')"
   ]
  },
  {
   "cell_type": "code",
   "execution_count": null,
   "metadata": {},
   "outputs": [],
   "source": [
    "# GammachirPy (Python)\n",
    "ax = plt.subplot(2, 1, 1)\n",
    "plt.imshow(np.maximum(cgc_out, 0), aspect='auto', origin='lower', cmap='jet')\n",
    "ax.set_title(f\"GammachirPy (Python)\\n\\\n",
    "               GCFB control = {GCparam.Ctrl}; Signal Level = {dbspl} dB SPL\")\n",
    "ax.set_yticks([0, 20, 40, 60, 80, 100])\n",
    "\n",
    "# Original Gammachirp (Matlab)\n",
    "ax = plt.subplot(2, 1, 2)\n",
    "plt.imshow(np.maximum(cgc_out_org, 0), aspect='auto', origin='lower', cmap='jet')\n",
    "ax.set_title(f\"Original Gammachirp (Matlab)\\n\\\n",
    "               GCFB control = {GCparam.Ctrl}; Signal Level = {dbspl} dB SPL\")\n",
    "ax.set_yticks([0, 20, 40, 60, 80, 100])\n",
    "\n",
    "plt.tight_layout()"
   ]
  },
  {
   "cell_type": "markdown",
   "metadata": {},
   "source": [
    "## Input level: 80 dB SPL"
   ]
  },
  {
   "cell_type": "code",
   "execution_count": null,
   "metadata": {},
   "outputs": [],
   "source": [
    "dbspl = 80\n",
    "gc_param_ctrl = 'dynamic'"
   ]
  },
  {
   "cell_type": "code",
   "execution_count": null,
   "metadata": {},
   "outputs": [],
   "source": [
    "# Level equalization\n",
    "snd_eq, _ = utils.eqlz2meddis_hc_level(snd, dbspl)\n",
    "\n",
    "# GCFB\n",
    "GCparam = GCparamDefault() # reset all\n",
    "GCparam.Ctrl = gc_param_ctrl\n",
    "cgc_out, pgc_out, _, _ = dcgc.gcfb_v211(snd_eq, GCparam)"
   ]
  },
  {
   "cell_type": "code",
   "execution_count": null,
   "metadata": {},
   "outputs": [],
   "source": [
    "# load original outputs\n",
    "name_file = f\"./original/GCFBv211_GCout_{GCparam.Ctrl}_{dbspl}dBSPL.mat\"\n",
    "gc_out_org = sio.loadmat(name_file)"
   ]
  },
  {
   "cell_type": "code",
   "execution_count": null,
   "metadata": {},
   "outputs": [],
   "source": [
    "# cGCout\n",
    "cgc_out_org = gc_out_org['cGCout']\n",
    "rmse = utils.rms(cgc_out_org - cgc_out)\n",
    "print(f'RMSE (cGC): {rmse}')"
   ]
  },
  {
   "cell_type": "code",
   "execution_count": null,
   "metadata": {},
   "outputs": [],
   "source": [
    "# pGCout\n",
    "pgc_out_org = gc_out_org['pGCout']\n",
    "rmse = utils.rms(pgc_out_org - pgc_out)\n",
    "print(f'RMSE (pGC): {rmse}')"
   ]
  },
  {
   "cell_type": "code",
   "execution_count": null,
   "metadata": {},
   "outputs": [],
   "source": [
    "# GammachirPy (Python)\n",
    "ax = plt.subplot(2, 1, 1)\n",
    "plt.imshow(np.maximum(cgc_out, 0), aspect='auto', origin='lower', cmap='jet')\n",
    "ax.set_title(f\"GammachirPy (Python)\\n\\\n",
    "               GCFB control = {GCparam.Ctrl}; Signal Level = {dbspl} dB SPL\")\n",
    "ax.set_yticks([0, 20, 40, 60, 80, 100])\n",
    "\n",
    "# Original Gammachirp (Matlab)\n",
    "ax = plt.subplot(2, 1, 2)\n",
    "plt.imshow(np.maximum(cgc_out_org, 0), aspect='auto', origin='lower', cmap='jet')\n",
    "ax.set_title(f\"Original Gammachirp (Matlab)\\n\\\n",
    "               GCFB control = {GCparam.Ctrl}; Signal Level = {dbspl} dB SPL\")\n",
    "ax.set_yticks([0, 20, 40, 60, 80, 100])\n",
    "\n",
    "plt.tight_layout()"
   ]
  }
 ],
 "metadata": {
  "kernelspec": {
   "display_name": "Python 3.9.1 64-bit",
   "language": "python",
   "name": "python3"
  },
  "language_info": {
   "codemirror_mode": {
    "name": "ipython",
    "version": 3
   },
   "file_extension": ".py",
   "mimetype": "text/x-python",
   "name": "python",
   "nbconvert_exporter": "python",
   "pygments_lexer": "ipython3",
   "version": "3.9.1"
  },
  "orig_nbformat": 4,
  "vscode": {
   "interpreter": {
    "hash": "aee8b7b246df8f9039afb4144a1f6fd8d2ca17a180786b69acc140d282b71a49"
   }
  }
 },
 "nbformat": 4,
 "nbformat_minor": 2
}

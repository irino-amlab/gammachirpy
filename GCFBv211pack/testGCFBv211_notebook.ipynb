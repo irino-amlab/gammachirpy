{
 "cells": [
  {
   "cell_type": "code",
   "execution_count": 59,
   "metadata": {},
   "outputs": [],
   "source": [
    "# -*- coding: utf-8 -*-\n",
    "import numpy as np\n",
    "%matplotlib inline\n",
    "import matplotlib.pyplot as plt\n",
    "import time\n",
    "import utils\n",
    "import GCFBv211 as gcfb_Main\n",
    "import csv\n",
    "import scipy.io as sio"
   ]
  },
  {
   "cell_type": "code",
   "execution_count": 60,
   "metadata": {},
   "outputs": [],
   "source": [
    "class GCparam_default:\n",
    "    fs = 48000\n",
    "    NumCh = 100\n",
    "    FRange = np.array([100, 6000])\n",
    "    OutMidCrct = \"No\""
   ]
  },
  {
   "cell_type": "code",
   "execution_count": 61,
   "metadata": {},
   "outputs": [
    {
     "name": "stdout",
     "output_type": "stream",
     "text": [
      "Duration of sound = 100.0 (ms)\n"
     ]
    }
   ],
   "source": [
    "# Stiuli : a simple pulse train\n",
    "fs = 48000\n",
    "Tp = 10 # (ms) 100 Hz pulse train\n",
    "Snd = np.array(([1]+[0]*int(Tp*fs/1000-1))*10)\n",
    "Tsnd = len(Snd)/fs\n",
    "print(\"Duration of sound = {} (ms)\".format(Tsnd*1000))"
   ]
  },
  {
   "cell_type": "code",
   "execution_count": 62,
   "metadata": {},
   "outputs": [],
   "source": [
    "SigSPL = 40\n",
    "GCparam_Ctrl = 'dynamic'"
   ]
  },
  {
   "cell_type": "code",
   "execution_count": 63,
   "metadata": {},
   "outputs": [
    {
     "name": "stdout",
     "output_type": "stream",
     "text": [
      "*** No Outer/Middle Ear correction ***\n",
      "*** Gammachirp Calculation ***\n",
      "--- Channel-by-channel processing ---\n",
      "Passive-Gammachirp & Level estimation filter ch #1 / #100.   elapsed time = 0.0 (sec)\n",
      "Passive-Gammachirp & Level estimation filter ch #20 / #100.   elapsed time = 0.2 (sec)\n",
      "Passive-Gammachirp & Level estimation filter ch #40 / #100.   elapsed time = 0.3 (sec)\n",
      "Passive-Gammachirp & Level estimation filter ch #60 / #100.   elapsed time = 0.4 (sec)\n",
      "Passive-Gammachirp & Level estimation filter ch #80 / #100.   elapsed time = 0.5 (sec)\n",
      "Passive-Gammachirp & Level estimation filter ch #100 / #100.   elapsed time = 0.6 (sec)\n",
      "--- Sample-by-sample processing ---\n",
      "ACFilterBank: Initialization of ACFstatus\n",
      "Dynamic Compressive-Gammachirp: Time 0.0 (ms) / 100.0 (ms). elapsed time = 0.0 (sec)\n",
      "Dynamic Compressive-Gammachirp: Time 10.0 (ms) / 100.0 (ms). elapsed time = 2.3 (sec)\n",
      "Dynamic Compressive-Gammachirp: Time 20.0 (ms) / 100.0 (ms). elapsed time = 3.8 (sec)\n",
      "Dynamic Compressive-Gammachirp: Time 30.0 (ms) / 100.0 (ms). elapsed time = 4.7 (sec)\n",
      "Dynamic Compressive-Gammachirp: Time 40.0 (ms) / 100.0 (ms). elapsed time = 5.6 (sec)\n",
      "Dynamic Compressive-Gammachirp: Time 50.0 (ms) / 100.0 (ms). elapsed time = 6.5 (sec)\n",
      "Dynamic Compressive-Gammachirp: Time 60.0 (ms) / 100.0 (ms). elapsed time = 7.3 (sec)\n",
      "Dynamic Compressive-Gammachirp: Time 70.0 (ms) / 100.0 (ms). elapsed time = 8.3 (sec)\n",
      "Dynamic Compressive-Gammachirp: Time 80.0 (ms) / 100.0 (ms). elapsed time = 9.1 (sec)\n",
      "Dynamic Compressive-Gammachirp: Time 90.0 (ms) / 100.0 (ms). elapsed time = 10.0 (sec)\n",
      "Dynamic Compressive-Gammachirp: Time 100.0 (ms) / 100.0 (ms). elapsed time = 10.8 (sec)\n"
     ]
    }
   ],
   "source": [
    "# Level equalization\n",
    "Snd, _ = utils.Eqlz2MeddisHCLevel(Snd, SigSPL)\n",
    "\n",
    "# GCFB\n",
    "GCparam = GCparam_default() # reset all\n",
    "GCparam.Ctrl = GCparam_Ctrl\n",
    "cGCout, pGCout, GCparam, GCrest = gcfb_Main.GCFBv211(Snd, GCparam)"
   ]
  },
  {
   "cell_type": "code",
   "execution_count": 64,
   "metadata": {},
   "outputs": [],
   "source": [
    "# read original outputs\n",
    "name_file = \"./original/GCFBv211_GCout_{}_{}dBSPL.mat\".format(GCparam.Ctrl, SigSPL)\n",
    "name_file\n",
    "GCout_org = sio.loadmat(name_file)"
   ]
  },
  {
   "cell_type": "code",
   "execution_count": 84,
   "metadata": {},
   "outputs": [
    {
     "name": "stdout",
     "output_type": "stream",
     "text": [
      "Error: 1.7493983642764924e-12\n"
     ]
    }
   ],
   "source": [
    "# cGCout\n",
    "cGCout_org = GCout_org['cGCout']\n",
    "rmse = utils.rms(cGCout_org - cGCout)\n",
    "print(f'Error: {rmse}')"
   ]
  },
  {
   "cell_type": "code",
   "execution_count": 85,
   "metadata": {},
   "outputs": [
    {
     "name": "stdout",
     "output_type": "stream",
     "text": [
      "Error: 1.09852400133016e-12\n"
     ]
    }
   ],
   "source": [
    "# pGCout\n",
    "pGCout_org = GCout_org['pGCout']\n",
    "rmse = utils.rms(pGCout_org - pGCout)\n",
    "print(f'Error: {rmse}')"
   ]
  },
  {
   "cell_type": "code",
   "execution_count": 86,
   "metadata": {},
   "outputs": [],
   "source": [
    "SigSPL = 60\n",
    "GCparam_Ctrl = 'dynamic'"
   ]
  },
  {
   "cell_type": "code",
   "execution_count": 87,
   "metadata": {},
   "outputs": [
    {
     "name": "stdout",
     "output_type": "stream",
     "text": [
      "*** No Outer/Middle Ear correction ***\n",
      "*** Gammachirp Calculation ***\n",
      "--- Channel-by-channel processing ---\n",
      "Passive-Gammachirp & Level estimation filter ch #1 / #100.   elapsed time = 0.0 (sec)\n",
      "Passive-Gammachirp & Level estimation filter ch #20 / #100.   elapsed time = 0.2 (sec)\n",
      "Passive-Gammachirp & Level estimation filter ch #40 / #100.   elapsed time = 0.4 (sec)\n",
      "Passive-Gammachirp & Level estimation filter ch #60 / #100.   elapsed time = 0.5 (sec)\n",
      "Passive-Gammachirp & Level estimation filter ch #80 / #100.   elapsed time = 0.6 (sec)\n",
      "Passive-Gammachirp & Level estimation filter ch #100 / #100.   elapsed time = 0.7 (sec)\n",
      "--- Sample-by-sample processing ---\n",
      "ACFilterBank: Initialization of ACFstatus\n",
      "Dynamic Compressive-Gammachirp: Time 0.0 (ms) / 100.0 (ms). elapsed time = 0.0 (sec)\n",
      "Dynamic Compressive-Gammachirp: Time 10.0 (ms) / 100.0 (ms). elapsed time = 1.7 (sec)\n",
      "Dynamic Compressive-Gammachirp: Time 20.0 (ms) / 100.0 (ms). elapsed time = 5.9 (sec)\n",
      "Dynamic Compressive-Gammachirp: Time 30.0 (ms) / 100.0 (ms). elapsed time = 9.6 (sec)\n",
      "Dynamic Compressive-Gammachirp: Time 40.0 (ms) / 100.0 (ms). elapsed time = 12.7 (sec)\n",
      "Dynamic Compressive-Gammachirp: Time 50.0 (ms) / 100.0 (ms). elapsed time = 14.8 (sec)\n",
      "Dynamic Compressive-Gammachirp: Time 60.0 (ms) / 100.0 (ms). elapsed time = 17.9 (sec)\n"
     ]
    }
   ],
   "source": [
    "# Level equalization\n",
    "Snd, _ = utils.Eqlz2MeddisHCLevel(Snd, SigSPL)\n",
    "\n",
    "# GCFB\n",
    "GCparam = GCparam_default() # reset all\n",
    "GCparam.Ctrl = GCparam_Ctrl\n",
    "cGCout, pGCout, GCparam, GCrest = gcfb_Main.GCFBv211(Snd, GCparam)"
   ]
  },
  {
   "cell_type": "code",
   "execution_count": 69,
   "metadata": {},
   "outputs": [],
   "source": [
    "# read original outputs\n",
    "name_file = \"./original/GCFBv211_GCout_{}_{}dBSPL.mat\".format(GCparam.Ctrl, SigSPL)\n",
    "name_file\n",
    "GCout_org = sio.loadmat(name_file)"
   ]
  },
  {
   "cell_type": "code",
   "execution_count": 70,
   "metadata": {},
   "outputs": [
    {
     "data": {
      "text/plain": [
       "2.2186499667485491e-13"
      ]
     },
     "execution_count": 70,
     "metadata": {},
     "output_type": "execute_result"
    }
   ],
   "source": [
    "# cGCout\n",
    "cGCout_org = GCout_org['cGCout']\n",
    "rmse = utils.rms(cGCout_org - cGCout)\n",
    "print(f'Error: {rmse}')"
   ]
  },
  {
   "cell_type": "code",
   "execution_count": 71,
   "metadata": {},
   "outputs": [
    {
     "data": {
      "text/plain": [
       "1.0983178981350143e-13"
      ]
     },
     "execution_count": 71,
     "metadata": {},
     "output_type": "execute_result"
    }
   ],
   "source": [
    "# pGCout\n",
    "pGCout_org = GCout_org['pGCout']\n",
    "rmse = utils.rms(pGCout_org - pGCout)\n",
    "print(f'Error: {rmse}')"
   ]
  },
  {
   "cell_type": "code",
   "execution_count": 72,
   "metadata": {},
   "outputs": [],
   "source": [
    "SigSPL = 80\n",
    "GCparam_Ctrl = 'dynamic'"
   ]
  },
  {
   "cell_type": "code",
   "execution_count": 73,
   "metadata": {},
   "outputs": [
    {
     "name": "stdout",
     "output_type": "stream",
     "text": [
      "*** No Outer/Middle Ear correction ***\n",
      "*** Gammachirp Calculation ***\n",
      "--- Channel-by-channel processing ---\n",
      "Passive-Gammachirp & Level estimation filter ch #1 / #100.   elapsed time = 0.0 (sec)\n",
      "Passive-Gammachirp & Level estimation filter ch #20 / #100.   elapsed time = 0.1 (sec)\n",
      "Passive-Gammachirp & Level estimation filter ch #40 / #100.   elapsed time = 0.2 (sec)\n",
      "Passive-Gammachirp & Level estimation filter ch #60 / #100.   elapsed time = 0.3 (sec)\n",
      "Passive-Gammachirp & Level estimation filter ch #80 / #100.   elapsed time = 0.3 (sec)\n",
      "Passive-Gammachirp & Level estimation filter ch #100 / #100.   elapsed time = 0.4 (sec)\n",
      "--- Sample-by-sample processing ---\n",
      "ACFilterBank: Initialization of ACFstatus\n",
      "Dynamic Compressive-Gammachirp: Time 0.0 (ms) / 100.0 (ms). elapsed time = 0.0 (sec)\n",
      "Dynamic Compressive-Gammachirp: Time 10.0 (ms) / 100.0 (ms). elapsed time = 0.9 (sec)\n",
      "Dynamic Compressive-Gammachirp: Time 20.0 (ms) / 100.0 (ms). elapsed time = 1.9 (sec)\n",
      "Dynamic Compressive-Gammachirp: Time 30.0 (ms) / 100.0 (ms). elapsed time = 2.9 (sec)\n",
      "Dynamic Compressive-Gammachirp: Time 40.0 (ms) / 100.0 (ms). elapsed time = 3.8 (sec)\n",
      "Dynamic Compressive-Gammachirp: Time 50.0 (ms) / 100.0 (ms). elapsed time = 4.7 (sec)\n",
      "Dynamic Compressive-Gammachirp: Time 60.0 (ms) / 100.0 (ms). elapsed time = 6.7 (sec)\n",
      "Dynamic Compressive-Gammachirp: Time 70.0 (ms) / 100.0 (ms). elapsed time = 8.4 (sec)\n",
      "Dynamic Compressive-Gammachirp: Time 80.0 (ms) / 100.0 (ms). elapsed time = 10.9 (sec)\n",
      "Dynamic Compressive-Gammachirp: Time 90.0 (ms) / 100.0 (ms). elapsed time = 12.7 (sec)\n",
      "Dynamic Compressive-Gammachirp: Time 100.0 (ms) / 100.0 (ms). elapsed time = 13.7 (sec)\n"
     ]
    }
   ],
   "source": [
    "# Level equalization\n",
    "Snd, _ = utils.Eqlz2MeddisHCLevel(Snd, SigSPL)\n",
    "\n",
    "# GCFB\n",
    "GCparam = GCparam_default() # reset all\n",
    "GCparam.Ctrl = GCparam_Ctrl\n",
    "cGCout, pGCout, GCparam, GCrest = gcfb_Main.GCFBv211(Snd, GCparam)"
   ]
  },
  {
   "cell_type": "code",
   "execution_count": 74,
   "metadata": {},
   "outputs": [
    {
     "data": {
      "text/plain": [
       "'./original/GCFBv211_GCout_dynamic_80dBSPL.csv'"
      ]
     },
     "execution_count": 74,
     "metadata": {},
     "output_type": "execute_result"
    }
   ],
   "source": [
    "name_file = \"./original/GCFBv211_GCout_{}_{}dBSPL.csv\".format(GCparam.Ctrl, SigSPL)\n",
    "name_file"
   ]
  },
  {
   "cell_type": "code",
   "execution_count": 75,
   "metadata": {},
   "outputs": [],
   "source": [
    "# read original outputs\n",
    "name_file = \"./original/GCFBv211_GCout_{}_{}dBSPL.mat\".format(GCparam.Ctrl, SigSPL)\n",
    "name_file\n",
    "GCout_org = sio.loadmat(name_file)"
   ]
  },
  {
   "cell_type": "code",
   "execution_count": 76,
   "metadata": {},
   "outputs": [
    {
     "data": {
      "text/plain": [
       "1.7493983642764924e-12"
      ]
     },
     "execution_count": 76,
     "metadata": {},
     "output_type": "execute_result"
    }
   ],
   "source": [
    "# cGCout\n",
    "cGCout_org = GCout_org['cGCout']\n",
    "rmse = utils.rms(cGCout_org - cGCout)\n",
    "print(f'Error: {rmse}')"
   ]
  },
  {
   "cell_type": "code",
   "execution_count": 77,
   "metadata": {},
   "outputs": [
    {
     "data": {
      "text/plain": [
       "1.09852400133016e-12"
      ]
     },
     "execution_count": 77,
     "metadata": {},
     "output_type": "execute_result"
    }
   ],
   "source": [
    "# pGCout\n",
    "pGCout_org = GCout_org['pGCout']\n",
    "rmse = utils.rms(pGCout_org - pGCout)\n",
    "print(f'Error: {rmse}')"
   ]
  },
  {
   "cell_type": "code",
   "execution_count": 78,
   "metadata": {},
   "outputs": [
    {
     "data": {
      "text/plain": [
       "'./original/GCFBv211_pGCout_dynamic_80dBSPL.csv'"
      ]
     },
     "execution_count": 78,
     "metadata": {},
     "output_type": "execute_result"
    }
   ],
   "source": [
    "name_file = \"./original/GCFBv211_pGCout_{}_{}dBSPL.csv\".format(GCparam.Ctrl, SigSPL)\n",
    "name_file"
   ]
  },
  {
   "cell_type": "code",
   "execution_count": null,
   "metadata": {},
   "outputs": [],
   "source": []
  }
 ],
 "metadata": {
  "interpreter": {
   "hash": "aee8b7b246df8f9039afb4144a1f6fd8d2ca17a180786b69acc140d282b71a49"
  },
  "kernelspec": {
   "display_name": "Python 3.9.1 64-bit",
   "language": "python",
   "name": "python3"
  },
  "language_info": {
   "codemirror_mode": {
    "name": "ipython",
    "version": 3
   },
   "file_extension": ".py",
   "mimetype": "text/x-python",
   "name": "python",
   "nbconvert_exporter": "python",
   "pygments_lexer": "ipython3",
   "version": "3.9.1"
  },
  "orig_nbformat": 4
 },
 "nbformat": 4,
 "nbformat_minor": 2
}

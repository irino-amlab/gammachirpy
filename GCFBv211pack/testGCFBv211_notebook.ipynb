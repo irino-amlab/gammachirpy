{
 "cells": [
  {
   "cell_type": "code",
   "execution_count": 32,
   "metadata": {},
   "outputs": [],
   "source": [
    "# -*- coding: utf-8 -*-\n",
    "import numpy as np\n",
    "%matplotlib inline\n",
    "import matplotlib.pyplot as plt\n",
    "import time\n",
    "import utils\n",
    "import GCFBv211 as gcfb_Main\n",
    "import csv"
   ]
  },
  {
   "cell_type": "code",
   "execution_count": 33,
   "metadata": {},
   "outputs": [],
   "source": [
    "class GCparam_default:\n",
    "    fs = 48000\n",
    "    NumCh = 100\n",
    "    FRange = np.array([100, 6000])\n",
    "    OutMidCrct = \"No\""
   ]
  },
  {
   "cell_type": "code",
   "execution_count": 34,
   "metadata": {},
   "outputs": [
    {
     "name": "stdout",
     "output_type": "stream",
     "text": [
      "Duration of sound = 100.0 (ms)\n"
     ]
    }
   ],
   "source": [
    "# Stiuli : a simple pulse train\n",
    "fs = 48000\n",
    "Tp = 10 # (ms) 100 Hz pulse train\n",
    "Snd = np.array(([1]+[0]*int(Tp*fs/1000-1))*10)\n",
    "Tsnd = len(Snd)/fs\n",
    "print(\"Duration of sound = {} (ms)\".format(Tsnd*1000))"
   ]
  },
  {
   "cell_type": "code",
   "execution_count": 35,
   "metadata": {},
   "outputs": [],
   "source": [
    "SigSPL = 40\n",
    "GCparam_Ctrl = 'dynamic'"
   ]
  },
  {
   "cell_type": "code",
   "execution_count": 36,
   "metadata": {},
   "outputs": [
    {
     "name": "stdout",
     "output_type": "stream",
     "text": [
      "*** No Outer/Middle Ear correction ***\n",
      "*** Gammachirp Calculation ***\n",
      "--- Channel-by-channel processing ---\n",
      "Passive-Gammachirp & Level estimation filter ch #1 / #100.   elapsed time = 0.1 (sec)\n",
      "Passive-Gammachirp & Level estimation filter ch #20 / #100.   elapsed time = 0.2 (sec)\n",
      "Passive-Gammachirp & Level estimation filter ch #40 / #100.   elapsed time = 0.4 (sec)\n",
      "Passive-Gammachirp & Level estimation filter ch #60 / #100.   elapsed time = 0.6 (sec)\n",
      "Passive-Gammachirp & Level estimation filter ch #80 / #100.   elapsed time = 0.8 (sec)\n",
      "Passive-Gammachirp & Level estimation filter ch #100 / #100.   elapsed time = 0.9 (sec)\n",
      "--- Sample-by-sample processing ---\n",
      "ACFilterBank: Initialization of ACFstatus\n",
      "Dynamic Compressive-Gammachirp: Time 0.0 (ms) / 100.0 (ms). elapsed time = 0.0 (sec)\n",
      "Dynamic Compressive-Gammachirp: Time 10.0 (ms) / 100.0 (ms). elapsed time = 2.4 (sec)\n",
      "Dynamic Compressive-Gammachirp: Time 20.0 (ms) / 100.0 (ms). elapsed time = 3.9 (sec)\n",
      "Dynamic Compressive-Gammachirp: Time 30.0 (ms) / 100.0 (ms). elapsed time = 5.0 (sec)\n",
      "Dynamic Compressive-Gammachirp: Time 40.0 (ms) / 100.0 (ms). elapsed time = 6.3 (sec)\n",
      "Dynamic Compressive-Gammachirp: Time 50.0 (ms) / 100.0 (ms). elapsed time = 7.6 (sec)\n",
      "Dynamic Compressive-Gammachirp: Time 60.0 (ms) / 100.0 (ms). elapsed time = 8.9 (sec)\n",
      "Dynamic Compressive-Gammachirp: Time 70.0 (ms) / 100.0 (ms). elapsed time = 10.5 (sec)\n",
      "Dynamic Compressive-Gammachirp: Time 80.0 (ms) / 100.0 (ms). elapsed time = 12.2 (sec)\n",
      "Dynamic Compressive-Gammachirp: Time 90.0 (ms) / 100.0 (ms). elapsed time = 14.6 (sec)\n",
      "Dynamic Compressive-Gammachirp: Time 100.0 (ms) / 100.0 (ms). elapsed time = 15.6 (sec)\n"
     ]
    }
   ],
   "source": [
    "# Level equalization\n",
    "Snd, _ = utils.Eqlz2MeddisHCLevel(Snd, SigSPL)\n",
    "\n",
    "# GCFB\n",
    "GCparam = GCparam_default() # reset all\n",
    "GCparam.Ctrl = GCparam_Ctrl\n",
    "cGCout, pGCout, GCparam, GCrest = gcfb_Main.GCFBv211(Snd, GCparam)"
   ]
  },
  {
   "cell_type": "code",
   "execution_count": 37,
   "metadata": {},
   "outputs": [
    {
     "data": {
      "text/plain": [
       "'./original/GCFBv211_cGCout_dynamic_40dBSPL.csv'"
      ]
     },
     "execution_count": 37,
     "metadata": {},
     "output_type": "execute_result"
    }
   ],
   "source": [
    "name_file = \"./original/GCFBv211_cGCout_{}_{}dBSPL.csv\".format(GCparam.Ctrl, SigSPL)\n",
    "name_file"
   ]
  },
  {
   "cell_type": "code",
   "execution_count": 38,
   "metadata": {},
   "outputs": [
    {
     "data": {
      "text/plain": [
       "1.1142945114843323e-05"
      ]
     },
     "execution_count": 38,
     "metadata": {},
     "output_type": "execute_result"
    }
   ],
   "source": [
    "with open(name_file, \"r\") as csv_file:\n",
    "    reader = csv.reader(csv_file, delimiter=\",\")\n",
    "    cGCout_org = [row for row in reader]\n",
    "\n",
    "cGCout_org = np.array(cGCout_org).astype(float)\n",
    "\n",
    "rmse = utils.rms(cGCout_org - cGCout)\n",
    "rmse"
   ]
  },
  {
   "cell_type": "code",
   "execution_count": 39,
   "metadata": {},
   "outputs": [
    {
     "data": {
      "text/plain": [
       "'./original/GCFBv211_pGCout_dynamic_40dBSPL.csv'"
      ]
     },
     "execution_count": 39,
     "metadata": {},
     "output_type": "execute_result"
    }
   ],
   "source": [
    "name_file = \"./original/GCFBv211_pGCout_{}_{}dBSPL.csv\".format(GCparam.Ctrl, SigSPL)\n",
    "name_file"
   ]
  },
  {
   "cell_type": "code",
   "execution_count": 40,
   "metadata": {},
   "outputs": [
    {
     "data": {
      "text/plain": [
       "6.0159431314025415e-06"
      ]
     },
     "execution_count": 40,
     "metadata": {},
     "output_type": "execute_result"
    }
   ],
   "source": [
    "with open(name_file, \"r\") as csv_file:\n",
    "    reader = csv.reader(csv_file, delimiter=\",\")\n",
    "    pGCout_org = [row for row in reader]\n",
    "\n",
    "pGCout_org = np.array(pGCout_org).astype(float)\n",
    "\n",
    "rmse = utils.rms(pGCout_org - pGCout)\n",
    "rmse"
   ]
  },
  {
   "cell_type": "code",
   "execution_count": 41,
   "metadata": {},
   "outputs": [
    {
     "data": {
      "text/plain": [
       "array([-3.4694e-17,  6.3045e-08,  5.2690e-07, -1.9049e-06, -7.6619e-06,\n",
       "       -1.2850e-05, -1.2483e-05, -2.6727e-06,  1.8524e-05,  5.1055e-05])"
      ]
     },
     "execution_count": 41,
     "metadata": {},
     "output_type": "execute_result"
    }
   ],
   "source": [
    "pGCout_org[0,0:10]"
   ]
  },
  {
   "cell_type": "code",
   "execution_count": 42,
   "metadata": {},
   "outputs": [
    {
     "data": {
      "text/plain": [
       "array([ 0.00000000e+00,  6.30446860e-08,  5.26895566e-07, -1.90494892e-06,\n",
       "       -7.66188876e-06, -1.28501156e-05, -1.24829508e-05, -2.67269167e-06,\n",
       "        1.85241052e-05,  5.10552974e-05])"
      ]
     },
     "execution_count": 42,
     "metadata": {},
     "output_type": "execute_result"
    }
   ],
   "source": [
    "pGCout[0,0:10]"
   ]
  },
  {
   "cell_type": "code",
   "execution_count": 43,
   "metadata": {},
   "outputs": [],
   "source": [
    "SigSPL = 60\n",
    "GCparam_Ctrl = 'dynamic'"
   ]
  },
  {
   "cell_type": "code",
   "execution_count": 44,
   "metadata": {},
   "outputs": [
    {
     "name": "stdout",
     "output_type": "stream",
     "text": [
      "*** No Outer/Middle Ear correction ***\n",
      "*** Gammachirp Calculation ***\n",
      "--- Channel-by-channel processing ---\n",
      "Passive-Gammachirp & Level estimation filter ch #1 / #100.   elapsed time = 0.0 (sec)\n",
      "Passive-Gammachirp & Level estimation filter ch #20 / #100.   elapsed time = 0.2 (sec)\n",
      "Passive-Gammachirp & Level estimation filter ch #40 / #100.   elapsed time = 0.2 (sec)\n",
      "Passive-Gammachirp & Level estimation filter ch #60 / #100.   elapsed time = 0.3 (sec)\n",
      "Passive-Gammachirp & Level estimation filter ch #80 / #100.   elapsed time = 0.4 (sec)\n",
      "Passive-Gammachirp & Level estimation filter ch #100 / #100.   elapsed time = 0.4 (sec)\n",
      "--- Sample-by-sample processing ---\n",
      "ACFilterBank: Initialization of ACFstatus\n",
      "Dynamic Compressive-Gammachirp: Time 0.0 (ms) / 100.0 (ms). elapsed time = 0.0 (sec)\n",
      "Dynamic Compressive-Gammachirp: Time 10.0 (ms) / 100.0 (ms). elapsed time = 1.6 (sec)\n",
      "Dynamic Compressive-Gammachirp: Time 20.0 (ms) / 100.0 (ms). elapsed time = 3.4 (sec)\n",
      "Dynamic Compressive-Gammachirp: Time 30.0 (ms) / 100.0 (ms). elapsed time = 4.6 (sec)\n",
      "Dynamic Compressive-Gammachirp: Time 40.0 (ms) / 100.0 (ms). elapsed time = 5.8 (sec)\n",
      "Dynamic Compressive-Gammachirp: Time 50.0 (ms) / 100.0 (ms). elapsed time = 7.2 (sec)\n",
      "Dynamic Compressive-Gammachirp: Time 60.0 (ms) / 100.0 (ms). elapsed time = 9.7 (sec)\n",
      "Dynamic Compressive-Gammachirp: Time 70.0 (ms) / 100.0 (ms). elapsed time = 11.2 (sec)\n",
      "Dynamic Compressive-Gammachirp: Time 80.0 (ms) / 100.0 (ms). elapsed time = 12.3 (sec)\n",
      "Dynamic Compressive-Gammachirp: Time 90.0 (ms) / 100.0 (ms). elapsed time = 13.5 (sec)\n",
      "Dynamic Compressive-Gammachirp: Time 100.0 (ms) / 100.0 (ms). elapsed time = 14.7 (sec)\n"
     ]
    }
   ],
   "source": [
    "# Level equalization\n",
    "Snd, _ = utils.Eqlz2MeddisHCLevel(Snd, SigSPL)\n",
    "\n",
    "# GCFB\n",
    "GCparam = GCparam_default() # reset all\n",
    "GCparam.Ctrl = GCparam_Ctrl\n",
    "cGCout, pGCout, GCparam, GCrest = gcfb_Main.GCFBv211(Snd, GCparam)"
   ]
  },
  {
   "cell_type": "code",
   "execution_count": 45,
   "metadata": {},
   "outputs": [
    {
     "data": {
      "text/plain": [
       "'./original/GCFBv211_cGCout_dynamic_60dBSPL.csv'"
      ]
     },
     "execution_count": 45,
     "metadata": {},
     "output_type": "execute_result"
    }
   ],
   "source": [
    "name_file = \"./original/GCFBv211_cGCout_{}_{}dBSPL.csv\".format(GCparam.Ctrl, SigSPL)\n",
    "name_file"
   ]
  },
  {
   "cell_type": "code",
   "execution_count": 46,
   "metadata": {},
   "outputs": [
    {
     "data": {
      "text/plain": [
       "2.459894709608267e-05"
      ]
     },
     "execution_count": 46,
     "metadata": {},
     "output_type": "execute_result"
    }
   ],
   "source": [
    "with open(name_file, \"r\") as csv_file:\n",
    "    reader = csv.reader(csv_file, delimiter=\",\")\n",
    "    cGCout_org = [row for row in reader]\n",
    "\n",
    "cGCout_org = np.array(cGCout_org).astype(float)\n",
    "\n",
    "rmse = utils.rms(cGCout_org - cGCout)\n",
    "rmse"
   ]
  },
  {
   "cell_type": "code",
   "execution_count": 47,
   "metadata": {},
   "outputs": [],
   "source": [
    "SigSPL = 80\n",
    "GCparam_Ctrl = 'dynamic'"
   ]
  },
  {
   "cell_type": "code",
   "execution_count": 48,
   "metadata": {},
   "outputs": [
    {
     "name": "stdout",
     "output_type": "stream",
     "text": [
      "*** No Outer/Middle Ear correction ***\n",
      "*** Gammachirp Calculation ***\n",
      "--- Channel-by-channel processing ---\n",
      "Passive-Gammachirp & Level estimation filter ch #1 / #100.   elapsed time = 0.0 (sec)\n",
      "Passive-Gammachirp & Level estimation filter ch #20 / #100.   elapsed time = 0.2 (sec)\n",
      "Passive-Gammachirp & Level estimation filter ch #40 / #100.   elapsed time = 0.5 (sec)\n",
      "Passive-Gammachirp & Level estimation filter ch #60 / #100.   elapsed time = 0.7 (sec)\n",
      "Passive-Gammachirp & Level estimation filter ch #80 / #100.   elapsed time = 0.8 (sec)\n",
      "Passive-Gammachirp & Level estimation filter ch #100 / #100.   elapsed time = 0.9 (sec)\n",
      "--- Sample-by-sample processing ---\n",
      "ACFilterBank: Initialization of ACFstatus\n",
      "Dynamic Compressive-Gammachirp: Time 0.0 (ms) / 100.0 (ms). elapsed time = 0.0 (sec)\n",
      "Dynamic Compressive-Gammachirp: Time 10.0 (ms) / 100.0 (ms). elapsed time = 1.2 (sec)\n",
      "Dynamic Compressive-Gammachirp: Time 20.0 (ms) / 100.0 (ms). elapsed time = 2.4 (sec)\n",
      "Dynamic Compressive-Gammachirp: Time 30.0 (ms) / 100.0 (ms). elapsed time = 3.4 (sec)\n",
      "Dynamic Compressive-Gammachirp: Time 40.0 (ms) / 100.0 (ms). elapsed time = 4.6 (sec)\n",
      "Dynamic Compressive-Gammachirp: Time 50.0 (ms) / 100.0 (ms). elapsed time = 6.1 (sec)\n",
      "Dynamic Compressive-Gammachirp: Time 60.0 (ms) / 100.0 (ms). elapsed time = 7.3 (sec)\n",
      "Dynamic Compressive-Gammachirp: Time 70.0 (ms) / 100.0 (ms). elapsed time = 8.6 (sec)\n",
      "Dynamic Compressive-Gammachirp: Time 80.0 (ms) / 100.0 (ms). elapsed time = 9.8 (sec)\n",
      "Dynamic Compressive-Gammachirp: Time 90.0 (ms) / 100.0 (ms). elapsed time = 11.3 (sec)\n",
      "Dynamic Compressive-Gammachirp: Time 100.0 (ms) / 100.0 (ms). elapsed time = 13.0 (sec)\n"
     ]
    }
   ],
   "source": [
    "# Level equalization\n",
    "Snd, _ = utils.Eqlz2MeddisHCLevel(Snd, SigSPL)\n",
    "\n",
    "# GCFB\n",
    "GCparam = GCparam_default() # reset all\n",
    "GCparam.Ctrl = GCparam_Ctrl\n",
    "cGCout, pGCout, GCparam, GCrest = gcfb_Main.GCFBv211(Snd, GCparam)"
   ]
  },
  {
   "cell_type": "code",
   "execution_count": 49,
   "metadata": {},
   "outputs": [
    {
     "data": {
      "text/plain": [
       "'./original/GCFBv211_cGCout_dynamic_80dBSPL.csv'"
      ]
     },
     "execution_count": 49,
     "metadata": {},
     "output_type": "execute_result"
    }
   ],
   "source": [
    "name_file = \"./original/GCFBv211_cGCout_{}_{}dBSPL.csv\".format(GCparam.Ctrl, SigSPL)\n",
    "name_file"
   ]
  },
  {
   "cell_type": "code",
   "execution_count": 50,
   "metadata": {},
   "outputs": [
    {
     "data": {
      "text/plain": [
       "0.00017378971212657205"
      ]
     },
     "execution_count": 50,
     "metadata": {},
     "output_type": "execute_result"
    }
   ],
   "source": [
    "with open(name_file, \"r\") as csv_file:\n",
    "    reader = csv.reader(csv_file, delimiter=\",\")\n",
    "    cGCout_org = [row for row in reader]\n",
    "\n",
    "cGCout_org = np.array(cGCout_org).astype(float)\n",
    "\n",
    "rmse = utils.rms(cGCout_org - cGCout)\n",
    "rmse"
   ]
  },
  {
   "cell_type": "code",
   "execution_count": 51,
   "metadata": {},
   "outputs": [
    {
     "data": {
      "text/plain": [
       "'./original/GCFBv211_pGCout_dynamic_80dBSPL.csv'"
      ]
     },
     "execution_count": 51,
     "metadata": {},
     "output_type": "execute_result"
    }
   ],
   "source": [
    "name_file = \"./original/GCFBv211_pGCout_{}_{}dBSPL.csv\".format(GCparam.Ctrl, SigSPL)\n",
    "name_file"
   ]
  },
  {
   "cell_type": "code",
   "execution_count": 52,
   "metadata": {},
   "outputs": [
    {
     "data": {
      "text/plain": [
       "0.0006015943131402402"
      ]
     },
     "execution_count": 52,
     "metadata": {},
     "output_type": "execute_result"
    }
   ],
   "source": [
    "with open(name_file, \"r\") as csv_file:\n",
    "    reader = csv.reader(csv_file, delimiter=\",\")\n",
    "    pGCout_org = [row for row in reader]\n",
    "\n",
    "pGCout_org = np.array(pGCout_org).astype(float)\n",
    "\n",
    "rmse = utils.rms(pGCout_org - pGCout)\n",
    "rmse"
   ]
  },
  {
   "cell_type": "code",
   "execution_count": 58,
   "metadata": {},
   "outputs": [],
   "source": [
    "rmse_ch = np.zeros(100)\n",
    "for nch in range(100):\n",
    "    rmse_ch[nch] = utils.rms(cGCout_org[nch,:]-cGCout[nch,:])\n",
    "    "
   ]
  },
  {
   "cell_type": "code",
   "execution_count": 60,
   "metadata": {},
   "outputs": [
    {
     "data": {
      "text/plain": [
       "array([-71.99384688, -72.85309885, -72.75520375, -71.99650397,\n",
       "       -72.18395022, -72.95151582, -75.24743386, -74.70175324,\n",
       "       -74.35202774, -72.69812408, -72.17265626, -72.28386019,\n",
       "       -72.45911912, -72.71626372, -73.86235505, -73.87143111,\n",
       "       -72.7190723 , -72.22259999, -71.93955803, -72.1482603 ,\n",
       "       -72.52108032, -73.22641155, -72.79242396, -72.28277445,\n",
       "       -72.13511951, -72.85385128, -73.35072317, -73.4404467 ,\n",
       "       -72.9640862 , -72.84000328, -72.86521163, -73.20644395,\n",
       "       -73.6159266 , -73.36698566, -73.59594234, -73.7819676 ,\n",
       "       -74.08118184, -73.7393425 , -74.0805588 , -74.55062225,\n",
       "       -74.21962733, -74.15698007, -74.40968197, -74.64467775,\n",
       "       -74.37279135, -74.78703675, -74.57079702, -75.16117336,\n",
       "       -75.05398143, -74.49108424, -75.21780095, -75.6179942 ,\n",
       "       -75.26498576, -75.19915987, -75.59545677, -76.4464078 ,\n",
       "       -75.69799991, -75.67013031, -76.18181989, -76.78476123,\n",
       "       -77.08213673, -76.82106737, -76.71479111, -77.02776532,\n",
       "       -78.1796349 , -77.88203879, -78.03550717, -78.28234046,\n",
       "       -78.77338124, -78.60449683, -79.16794448, -80.22038738,\n",
       "       -79.95439051, -79.82774045, -80.28803111, -79.71930943,\n",
       "       -81.45373762, -80.01078816, -79.98018255, -80.82827497,\n",
       "       -81.07901254, -80.70245144, -81.23938419, -81.17599348,\n",
       "       -83.27605104, -82.11516656, -82.3070146 , -81.22398205,\n",
       "       -81.89697955, -82.62374734, -81.42317356, -82.40080288,\n",
       "       -82.53810585, -82.4929212 , -81.98361687, -83.47935592,\n",
       "       -82.53813812, -81.63095817, -83.00019953, -77.66505609])"
      ]
     },
     "execution_count": 60,
     "metadata": {},
     "output_type": "execute_result"
    }
   ],
   "source": [
    "20*np.log10(rmse_ch)"
   ]
  },
  {
   "cell_type": "code",
   "execution_count": null,
   "metadata": {},
   "outputs": [],
   "source": []
  }
 ],
 "metadata": {
  "interpreter": {
   "hash": "aee8b7b246df8f9039afb4144a1f6fd8d2ca17a180786b69acc140d282b71a49"
  },
  "kernelspec": {
   "display_name": "Python 3.9.1 64-bit",
   "language": "python",
   "name": "python3"
  },
  "language_info": {
   "codemirror_mode": {
    "name": "ipython",
    "version": 3
   },
   "file_extension": ".py",
   "mimetype": "text/x-python",
   "name": "python",
   "nbconvert_exporter": "python",
   "pygments_lexer": "ipython3",
   "version": "3.9.1"
  },
  "orig_nbformat": 4
 },
 "nbformat": 4,
 "nbformat_minor": 2
}

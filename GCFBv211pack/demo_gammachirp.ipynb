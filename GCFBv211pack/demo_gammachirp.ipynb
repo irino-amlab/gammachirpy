{
 "cells": [
  {
   "cell_type": "code",
   "execution_count": 1,
   "metadata": {},
   "outputs": [],
   "source": [
    "import numpy as np\n",
    "import scipy.io as sio\n",
    "import matplotlib.pyplot as plt\n",
    "%matplotlib inline\n",
    "\n",
    "import utils as utils\n",
    "import gcfb_v211 as gcfb\n",
    "import gammachirp as gc"
   ]
  },
  {
   "cell_type": "code",
   "execution_count": 2,
   "metadata": {},
   "outputs": [],
   "source": [
    "# Param values from PUI 2003\n",
    "n = 4       \n",
    "b1 = 1.81   \n",
    "c1 = -2.96  \n",
    "b2 = 2.17   \n",
    "c2 = 2.20   \n",
    "frat0 = 0.466\n",
    "frat1 = 0.0109\n",
    "\n",
    "n_rsl = 2**12\n",
    "fs = 44100\n",
    "\n",
    "ps = 50\n",
    "frat = frat0 + frat1*ps"
   ]
  },
  {
   "cell_type": "code",
   "execution_count": 3,
   "metadata": {},
   "outputs": [],
   "source": [
    "fp_list = np.array([250, 500, 1000, 2000, 4000, 8000])\n",
    "fp_xtick = np.array([100, 250, 500, 1000, 2000, 4000, 8000, 16000])\n",
    "erb_n_xtick, _ = utils.freq2erb(fp_xtick)"
   ]
  },
  {
   "cell_type": "code",
   "execution_count": 8,
   "metadata": {},
   "outputs": [
    {
     "data": {
      "image/png": "[encoded data removed]",
      "text/plain": [
       "<Figure size 432x288 with 1 Axes>"
      ]
     },
     "metadata": {
      "needs_background": "light"
     },
     "output_type": "display_data"
    }
   ],
   "source": [
    "fig, ax = plt.subplots()\n",
    "\n",
    "for fp in fp_list:\n",
    "    fr1, _ = gc.fp2_to_fr1(n, b1, c1, b2, c2, frat, fp)\n",
    "    cgc_resp = gcfb.cmprs_gc_frsp(fr1, fs, n, b1, c1, frat, b2, c2, n_rsl)\n",
    "\n",
    "    cgc_frsp = cgc_resp.cgc_frsp\n",
    "    cgc_frsp_db = 20 * np.log10(cgc_frsp/np.max(cgc_frsp))\n",
    "    freq = np.array(cgc_resp.freq)\n",
    "    erb_num, _ = utils.freq2erb(freq)\n",
    "\n",
    "    plt.plot(erb_num, cgc_frsp_db)\n",
    "    ax.set_xlim([erb_n_xtick[0], erb_n_xtick[-1]])\n",
    "    ax.set_ylim([-70, 5])\n",
    "    ax.set_xticks(erb_n_xtick)\n",
    "    ax.set_xticklabels(fp_xtick)\n",
    "    ax.set_xlabel(\"Frequency (Hz)\")\n",
    "    ax.set_ylabel(\"Filter Gain (dB)\")\n",
    "    plt.title(\"Frequency response\")\n",
    "\n",
    "plt.show()"
   ]
  },
  {
   "cell_type": "code",
   "execution_count": null,
   "metadata": {},
   "outputs": [],
   "source": []
  }
 ],
 "metadata": {
  "kernelspec": {
   "display_name": "Python 3.9.1 ('venv': venv)",
   "language": "python",
   "name": "python3"
  },
  "language_info": {
   "codemirror_mode": {
    "name": "ipython",
    "version": 3
   },
   "file_extension": ".py",
   "mimetype": "text/x-python",
   "name": "python",
   "nbconvert_exporter": "python",
   "pygments_lexer": "ipython3",
   "version": "3.9.1"
  },
  "orig_nbformat": 4,
  "vscode": {
   "interpreter": {
    "hash": "8665992c05e19ec5774faf058efa6f8466e952f9b13df9791a1aa038c4349c6b"
   }
  }
 },
 "nbformat": 4,
 "nbformat_minor": 2
}

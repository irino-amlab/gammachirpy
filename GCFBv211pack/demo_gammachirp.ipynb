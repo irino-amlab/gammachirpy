{
 "cells": [
  {
   "cell_type": "code",
   "execution_count": 1,
   "metadata": {},
   "outputs": [],
   "source": [
    "import numpy as np\n",
    "import scipy.io as sio\n",
    "import matplotlib.pyplot as plt\n",
    "%matplotlib inline\n",
    "\n",
    "import utils as utils\n",
    "import gcfb_v211 as gcfb\n",
    "import gammachirp as gc"
   ]
  },
  {
   "cell_type": "code",
   "execution_count": 6,
   "metadata": {},
   "outputs": [],
   "source": [
    "# Param values from PUI 2003\n",
    "n = 4       \n",
    "b1 = 1.81   \n",
    "c1 = -2.96  \n",
    "b2 = 2.17   \n",
    "c2 = 2.20   \n",
    "frat0 = 0.466\n",
    "frat1 = 0.0109\n",
    "\n",
    "n_rsl = 2**12\n",
    "fs = 44100\n",
    "\n",
    "ps = 50\n",
    "frat = frat0 + frat1*ps"
   ]
  },
  {
   "cell_type": "code",
   "execution_count": 7,
   "metadata": {},
   "outputs": [],
   "source": [
    "fp_list = np.array([250, 500, 1000, 2000, 4000, 8000])\n",
    "fp_xtick = np.array([100, 250, 500, 1000, 2000, 4000, 8000, 16000])\n",
    "ERBNXTick = utils.freq2erb(fp_xtick)"
   ]
  },
  {
   "cell_type": "code",
   "execution_count": 8,
   "metadata": {},
   "outputs": [
    {
     "ename": "TypeError",
     "evalue": "ufunc 'arctan2' not supported for the input types, and the inputs could not be safely coerced to any supported types according to the casting rule ''safe''",
     "output_type": "error",
     "traceback": [
      "\u001b[0;31m---------------------------------------------------------------------------\u001b[0m",
      "\u001b[0;31mTypeError\u001b[0m                                 Traceback (most recent call last)",
      "\u001b[1;32m/Users/kyama/Develop/gammachirPy/GCFBv211pack/demo_gammachirp.ipynb Cell 4'\u001b[0m in \u001b[0;36m<cell line: 1>\u001b[0;34m()\u001b[0m\n\u001b[1;32m      <a href='vscode-notebook-cell:/Users/kyama/Develop/gammachirPy/GCFBv211pack/demo_gammachirp.ipynb#ch0000004?line=0'>1</a>\u001b[0m \u001b[39mfor\u001b[39;00m fp \u001b[39min\u001b[39;00m fp_list:\n\u001b[1;32m      <a href='vscode-notebook-cell:/Users/kyama/Develop/gammachirPy/GCFBv211pack/demo_gammachirp.ipynb#ch0000004?line=1'>2</a>\u001b[0m     fr1, _ \u001b[39m=\u001b[39m gc\u001b[39m.\u001b[39mfp2_to_fr1(n, b1, c1, b2, c2, frat, fp)\n\u001b[0;32m----> <a href='vscode-notebook-cell:/Users/kyama/Develop/gammachirPy/GCFBv211pack/demo_gammachirp.ipynb#ch0000004?line=2'>3</a>\u001b[0m     cgc_resp \u001b[39m=\u001b[39m gcfb\u001b[39m.\u001b[39;49mcmprs_gc_frsp(fr1, fs, n, b1, c1, frat, b2, c2, n_rsl)\n\u001b[1;32m      <a href='vscode-notebook-cell:/Users/kyama/Develop/gammachirPy/GCFBv211pack/demo_gammachirp.ipynb#ch0000004?line=4'>5</a>\u001b[0m     cgc_frsp \u001b[39m=\u001b[39m cgc_resp\u001b[39m.\u001b[39mcgc_frsp\n\u001b[1;32m      <a href='vscode-notebook-cell:/Users/kyama/Develop/gammachirPy/GCFBv211pack/demo_gammachirp.ipynb#ch0000004?line=5'>6</a>\u001b[0m     cgc_frsp_db \u001b[39m=\u001b[39m \u001b[39m20\u001b[39m \u001b[39m*\u001b[39m np\u001b[39m.\u001b[39mlog10(cgc_frsp\u001b[39m/\u001b[39mnp\u001b[39m.\u001b[39mmax(cgc_frsp))\n",
      "File \u001b[0;32m~/Develop/gammachirPy/GCFBv211pack/gcfb_v211.py:669\u001b[0m, in \u001b[0;36mcmprs_gc_frsp\u001b[0;34m(fr1, fs, n, b1, c1, frat, b2, c2, n_frq_rsl)\u001b[0m\n\u001b[1;32m    667\u001b[0m fp1, _ \u001b[39m=\u001b[39m gc\u001b[39m.\u001b[39mfr2fpeak(n, b1, c1, fr1)\n\u001b[1;32m    668\u001b[0m fr2 \u001b[39m=\u001b[39m frat \u001b[39m*\u001b[39m fp1\n\u001b[0;32m--> 669\u001b[0m acf_frsp, freq, asym_func \u001b[39m=\u001b[39m asym_cmp_frsp_v2(fr2, fs, b2, c2, n_frq_rsl)\n\u001b[1;32m    670\u001b[0m cgc_frsp \u001b[39m=\u001b[39m pgc_frsp \u001b[39m*\u001b[39m asym_func \u001b[39m# cgc_frsp = pgc_frsp * acf_frsp\u001b[39;00m\n\u001b[1;32m    672\u001b[0m val_fp2 \u001b[39m=\u001b[39m np\u001b[39m.\u001b[39mmax(cgc_frsp, axis\u001b[39m=\u001b[39m\u001b[39m1\u001b[39m)\n",
      "File \u001b[0;32m~/Develop/gammachirPy/GCFBv211pack/gcfb_v211.py:794\u001b[0m, in \u001b[0;36masym_cmp_frsp_v2\u001b[0;34m(frs, fs, b, c, n_frq_rsl, num_filt)\u001b[0m\n\u001b[1;32m    792\u001b[0m be \u001b[39m=\u001b[39m (b \u001b[39m*\u001b[39m erbw) \u001b[39m*\u001b[39m np\u001b[39m.\u001b[39mones((\u001b[39m1\u001b[39m, n_frq_rsl))\n\u001b[1;32m    793\u001b[0m cc \u001b[39m=\u001b[39m (c \u001b[39m*\u001b[39m np\u001b[39m.\u001b[39mones((num_ch, \u001b[39m1\u001b[39m)) \u001b[39m*\u001b[39m np\u001b[39m.\u001b[39mones((\u001b[39m1\u001b[39m, n_frq_rsl))) \u001b[39m# in case when c is scalar\u001b[39;00m\n\u001b[0;32m--> 794\u001b[0m asym_func \u001b[39m=\u001b[39m np\u001b[39m.\u001b[39mexp(cc \u001b[39m*\u001b[39m np\u001b[39m.\u001b[39;49marctan2(fd, be))\n\u001b[1;32m    796\u001b[0m \u001b[39mreturn\u001b[39;00m acf_frsp, freq, asym_func\n",
      "\u001b[0;31mTypeError\u001b[0m: ufunc 'arctan2' not supported for the input types, and the inputs could not be safely coerced to any supported types according to the casting rule ''safe''"
     ]
    }
   ],
   "source": [
    "for fp in fp_list:\n",
    "    fr1, _ = gc.fp2_to_fr1(n, b1, c1, b2, c2, frat, fp)\n",
    "    cgc_resp = gcfb.cmprs_gc_frsp(fr1, fs, n, b1, c1, frat, b2, c2, n_rsl)\n",
    "\n",
    "    cgc_frsp = cgc_resp.cgc_frsp\n",
    "    cgc_frsp_db = 20 * np.log10(cgc_frsp/np.max(cgc_frsp))\n",
    "    freq = cgc_resp.freq\n",
    "    erb_num = utils.freq2erb(freq)\n",
    "\n",
    "    plt.plot(erb_num, cgc_frsp_db)"
   ]
  },
  {
   "cell_type": "code",
   "execution_count": null,
   "metadata": {},
   "outputs": [],
   "source": []
  }
 ],
 "metadata": {
  "kernelspec": {
   "display_name": "Python 3.9.1 ('venv': venv)",
   "language": "python",
   "name": "python3"
  },
  "language_info": {
   "codemirror_mode": {
    "name": "ipython",
    "version": 3
   },
   "file_extension": ".py",
   "mimetype": "text/x-python",
   "name": "python",
   "nbconvert_exporter": "python",
   "pygments_lexer": "ipython3",
   "version": "3.9.1"
  },
  "orig_nbformat": 4,
  "vscode": {
   "interpreter": {
    "hash": "8665992c05e19ec5774faf058efa6f8466e952f9b13df9791a1aa038c4349c6b"
   }
  }
 },
 "nbformat": 4,
 "nbformat_minor": 2
}
